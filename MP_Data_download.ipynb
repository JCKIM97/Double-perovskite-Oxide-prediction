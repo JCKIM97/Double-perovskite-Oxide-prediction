{
 "cells": [
  {
   "cell_type": "code",
   "execution_count": 1,
   "metadata": {},
   "outputs": [],
   "source": [
    "from pymatgen import MPRester                                                     \n",
    "import urllib.request                                                             \n",
    "import json                             \n",
    "from monty.json import MontyEncoder, MontyDecoder\n",
    "from monty.serialization import loadfn, dumpfn    \n",
    "d=loadfn('mids_2020.json',cls=MontyDecoder)\n",
    "material_ids=d['response']\n",
    "mp_ids=material_ids\n",
    "                                                                                  \n",
    "#if __name__ == \"__main__\":                                                        \n",
    "MAPI_KEY = \"b9e61J6IATnrDL4TpV\"  # You must change this to your Materials API key! (or set MAPI_KEY env variable)\n",
    "\n",
    "mpr=MPRester(MAPI_KEY)\n",
    "\n",
    "    # fetch list of a list of all available materials                             \n",
    "#    with urllib.request.urlopen('https://www.materialsproject.org/rest/v1/materials/mids') as myurl:\n",
    "#data = json.loads(myurl.read().decode())                                  \n",
    "#material_ids = data['response'] # 75,000'ish material IDs are returned \n",
    "                                                                                  \n",
    "                                                                                  \n"
   ]
  },
  {
   "cell_type": "code",
   "execution_count": 2,
   "metadata": {},
   "outputs": [
    {
     "data": {
      "text/plain": [
       "143166"
      ]
     },
     "execution_count": 2,
     "metadata": {},
     "output_type": "execute_result"
    }
   ],
   "source": [
    "len(d['response'])"
   ]
  },
  {
   "cell_type": "code",
   "execution_count": 35,
   "metadata": {},
   "outputs": [
    {
     "data": {
      "application/vnd.jupyter.widget-view+json": {
       "model_id": "b67847c4fe9e437cb987bd24571dd468",
       "version_major": 2,
       "version_minor": 0
      },
      "text/plain": [
       "HBox(children=(FloatProgress(value=0.0, max=113205.0), HTML(value='')))"
      ]
     },
     "metadata": {},
     "output_type": "display_data"
    }
   ],
   "source": [
    "with MPRester(MAPI_KEY) as m: # object for connecting to MP Rest interface \n",
    "        criteria={'material_id': {'$in':material_ids[:130000]}} # to avoid straining the servers, this is only using the first 4 materials\n",
    "        #criteria={'material_id': {'$in':material_ids[:1000]}} # to avoid straining the servers, this is only using the first 4 materials        \n",
    "#{\"criteria\": \"{'elements':{'$in':['Li', 'Na', 'K'], '$all': ['O']}, 'nelements':2}\", \"properties\": \"['formula', 'formation_energy_per_atom']\"}\n",
    "#        criteria={'elements':{'$in':['Na']}}\n",
    "\n",
    "#        properties=['material_id', 'band_gap', 'formation_energy_per_atom', 'volume', 'formula', 'pretty_formula', 'density','icsd_id', 'e_above_hull','nelements', 'spacegroup','nsites']            # list a few quanteties of interest\n",
    "        properties=['nelements', 'icsd_ids', 'formation_energy_per_atom', 'e_above_hull', 'pretty_formula', 'formula', 'final_energy_per_atom']            # list a few quanteties of interest\n",
    "#        properties=['oxide_type']            # list a few quanteties of interest\n",
    "        data = m.query(criteria, properties)                                      \n",
    "        \n",
    "        #f = open(\"MP_All_oxide.txt\", 'w')\n",
    "        f = open(\"MP_All_elasticity.txt\", 'w')\n",
    "        f.write(str(data))\n",
    "#        print(data)  \n",
    "        f.close()\n",
    "\n"
   ]
  },
  {
   "cell_type": "code",
   "execution_count": 37,
   "metadata": {},
   "outputs": [],
   "source": [
    "f=open(\"total_energy.txt\",'w')\n",
    "for x in range(0, 113205):\n",
    "    f.write(str(data[x]['pretty_formula']))\n",
    "    f.write('\\t')\n",
    "    f.write(str(data[x]['formula']))\n",
    "    f.write('\\t')\n",
    "    f.write(str(data[x]['final_energy_per_atom']))\n",
    "    f.write('\\t')\n",
    "    f.write(str(data[x]['formation_energy_per_atom']))\n",
    "    f.write('\\t')\n",
    "    f.write(str(data[x]['e_above_hull']))\n",
    "    f.write('\\t')\n",
    "    f.write(str(data[x]['icsd_ids']))\n",
    "    f.write('\\t')\n",
    "    f.write(str(data[x]['nelements']))\n",
    "    f.write('\\n')\n",
    "    \n",
    "f.close()\n",
    "\n"
   ]
  },
  {
   "cell_type": "code",
   "execution_count": 20,
   "metadata": {},
   "outputs": [],
   "source": [
    "f=open(\"MPall_1.txt\",'w')\n",
    "for x in range(0, 143166):\n",
    "    try:\n",
    "        f.write(str(data[x]['elasticity']['G_VRH']))\n",
    "    except Exception:\n",
    "        f.write('None')\n",
    "    f.write('\\n')\n",
    "\n",
    "f.close()"
   ]
  },
  {
   "cell_type": "code",
   "execution_count": 38,
   "metadata": {},
   "outputs": [
    {
     "data": {
      "application/vnd.jupyter.widget-view+json": {
       "model_id": "0224d79ca5b34482b4b0464e3efe22a2",
       "version_major": 2,
       "version_minor": 0
      },
      "text/plain": [
       "HBox(children=(FloatProgress(value=0.0, max=13129.0), HTML(value='')))"
      ]
     },
     "metadata": {},
     "output_type": "display_data"
    }
   ],
   "source": [
    "with MPRester(MAPI_KEY) as m: # object for connecting to MP Rest interface \n",
    "        criteria={'material_id': {'$in':material_ids[130001:143166]}} # to avoid straining the servers, this is only using the first 4 materials\n",
    "        #criteria={'material_id': {'$in':material_ids[:1000]}} # to avoid straining the servers, this is only using the first 4 materials        \n",
    "#{\"criteria\": \"{'elements':{'$in':['Li', 'Na', 'K'], '$all': ['O']}, 'nelements':2}\", \"properties\": \"['formula', 'formation_energy_per_atom']\"}\n",
    "#        criteria={'elements':{'$in':['Na']}}\n",
    "\n",
    "#        properties=['material_id', 'band_gap', 'formation_energy_per_atom', 'volume', 'formula', 'pretty_formula', 'density','icsd_id', 'e_above_hull','nelements', 'spacegroup','nsites']            # list a few quanteties of interest\n",
    "        properties=['nelements', 'icsd_ids', 'formation_energy_per_atom', 'e_above_hull', 'pretty_formula', 'formula', 'final_energy_per_atom']            # list a few quanteties of interest\n",
    "#        properties=['oxide_type']            # list a few quanteties of interest\n",
    "        data = m.query(criteria, properties)                                      \n",
    "        \n",
    "        #f = open(\"MP_All_oxide.txt\", 'w')\n",
    "        f = open(\"MP_All_elasticity.txt\", 'w')\n",
    "        f.write(str(data))\n",
    "#        print(data)  \n",
    "        f.close()\n"
   ]
  },
  {
   "cell_type": "code",
   "execution_count": 39,
   "metadata": {},
   "outputs": [],
   "source": [
    "f=open(\"total_energy2.txt\",'w')\n",
    "for x in range(0, 13129):\n",
    "    f.write(str(data[x]['pretty_formula']))\n",
    "    f.write('\\t')\n",
    "    f.write(str(data[x]['formula']))\n",
    "    f.write('\\t')\n",
    "    f.write(str(data[x]['final_energy_per_atom']))\n",
    "    f.write('\\t')\n",
    "    f.write(str(data[x]['formation_energy_per_atom']))\n",
    "    f.write('\\t')\n",
    "    f.write(str(data[x]['e_above_hull']))\n",
    "    f.write('\\t')\n",
    "    f.write(str(data[x]['icsd_ids']))\n",
    "    f.write('\\t')\n",
    "    f.write(str(data[x]['nelements']))\n",
    "    f.write('\\n')\n",
    "    \n",
    "f.close()\n"
   ]
  },
  {
   "cell_type": "code",
   "execution_count": 24,
   "metadata": {},
   "outputs": [],
   "source": [
    "f=open(\"MPall_2.txt\",'w')\n",
    "for x in range(0, 124515):\n",
    "    try:\n",
    "        f.write(str(data[x]['elasticity']['G_VRH']))\n",
    "    except Exception:\n",
    "        f.write('None')\n",
    "    f.write('\\n')\n",
    "\n",
    "f.close()"
   ]
  },
  {
   "cell_type": "code",
   "execution_count": null,
   "metadata": {},
   "outputs": [],
   "source": []
  }
 ],
 "metadata": {
  "kernelspec": {
   "display_name": "Python 3",
   "language": "python",
   "name": "python3"
  },
  "language_info": {
   "codemirror_mode": {
    "name": "ipython",
    "version": 3
   },
   "file_extension": ".py",
   "mimetype": "text/x-python",
   "name": "python",
   "nbconvert_exporter": "python",
   "pygments_lexer": "ipython3",
   "version": "3.8.3"
  }
 },
 "nbformat": 4,
 "nbformat_minor": 2
}
