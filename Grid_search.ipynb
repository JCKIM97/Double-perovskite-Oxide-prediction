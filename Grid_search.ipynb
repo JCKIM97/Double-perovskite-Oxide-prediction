{
 "cells": [
  {
   "cell_type": "code",
   "execution_count": null,
   "metadata": {},
   "outputs": [],
   "source": [
    "import pandas as pd\n",
    "from sklearn.model_selection import train_test_split\n",
    "from pandas.plotting import scatter_matrix\n",
    "from sklearn.ensemble import RandomForestRegressor\n",
    "from sklearn.model_selection import GridSearchCV\n",
    "import lightgbm as lgb\n",
    "from pandas import DataFrame\n",
    "\n",
    "df1= pd.read_csv(\"/home/jckim/double-perovskite/MP_scaled2021.csv\", encoding = 'utf-8')\n",
    "\n",
    "\n",
    "train_set, test_set = train_test_split(df1.dropna(), test_size=0.2, random_state=10)\n",
    "print(len(train_set), \"train +\", len(test_set), \"test\")\n",
    "    \n",
    "x_train = train_set.drop([\"formation_energy_per_atom\", \"Index\", \"formula\", \"e_above_hull\"], axis=1)\n",
    "y_train = train_set[\"formation_energy_per_atom\"].copy()\n",
    "x_test = test_set.drop([\"formation_energy_per_atom\", \"Index\", \"formula\", \"e_above_hull\"], axis=1)\n",
    "y_test = test_set[\"formation_energy_per_atom\"].copy()\n",
    "\n",
    "\n",
    "gbm = lgb.LGBMRegressor()\n",
    "\n",
    "parameters = {'num_leaves' : [500,1000,1500,2000], 'num_threads' : [4,8,16,32], 'learning_rate' : [0.03,0.05,0.1,0.15],\n",
    "              'n_estimators' : [100,300,500,1000]}\n",
    "\n",
    "grid_gbm=GridSearchCV(gbm, param_grid=parameters, cv=3, refit=True)\n",
    "\n",
    "grid_gbm.fit(x_train,y_train,\n",
    "            eval_set=[(x_test, y_test)],\n",
    "            eval_metric='rmse',\n",
    "            early_stopping_rounds=20)\n",
    "\n",
    "scores_df = pd.DataFrame(grid_gbm.cv_results_)\n",
    "scores_df[['params', 'mean_test_score', 'rank_test_score', 'split0_test_score', 'split1_test_score', 'split2_test_score']]\n",
    "print(scores_df[['params', 'mean_test_score', 'rank_test_score', 'split0_test_score', 'split1_test_score', 'split2_test_score']])\n",
    "scores_df.to_csv('Gridsearch_gbm.csv' , sep=',')\n",
    "\n",
    "    "
   ]
  },
  {
   "cell_type": "code",
   "execution_count": null,
   "metadata": {},
   "outputs": [],
   "source": [
    "train_set, test_set = train_test_split(df1.dropna(), test_size=0.2, random_state=10)\n",
    "print(len(train_set), \"train +\", len(test_set), \"test\")\n",
    "    \n",
    "x_train = train_set.drop([\"formation_energy_per_atom\", \"Index\", \"formula\", \"e_above_hull\"], axis=1)\n",
    "y_train = train_set[\"formation_energy_per_atom\"].copy()\n",
    "x_test = test_set.drop([\"formation_energy_per_atom\", \"Index\", \"formula\", \"e_above_hull\"], axis=1)\n",
    "y_test = test_set[\"formation_energy_per_atom\"].copy()\n",
    "\n",
    "\n",
    "rf = RandomForestRegressor()\n",
    "\n",
    "parameters = {'max_depth' : [None,50,100,300], 'min_samples_split' : [2,4,8], 'min_samples_leaf' : [2,4,8],\n",
    "              'n_estimators' : [100,300,500,1000]}\n",
    "\n",
    "grid_rf=GridSearchCV(rf, param_grid=parameters, cv=3, refit=True)\n",
    "\n",
    "grid_rf.fit(x_train,y_train,\n",
    "            eval_set=[(x_test, y_test)],\n",
    "            eval_metric='rmse',\n",
    "            early_stopping_rounds=20)\n",
    "\n",
    "scores_df = pd.DataFrame(grid_rf.cv_results_)\n",
    "scores_df[['params', 'mean_test_score', 'rank_test_score', 'split0_test_score', 'split1_test_score', 'split2_test_score']]\n",
    "print(scores_df[['params', 'mean_test_score', 'rank_test_score', 'split0_test_score', 'split1_test_score', 'split2_test_score']])\n",
    "scores_df.to_csv('Gridsearch_rf.csv' , sep=',')\n",
    "\n",
    "    "
   ]
  }
 ],
 "metadata": {
  "kernelspec": {
   "display_name": "Python 3",
   "language": "python",
   "name": "python3"
  },
  "language_info": {
   "codemirror_mode": {
    "name": "ipython",
    "version": 3
   },
   "file_extension": ".py",
   "mimetype": "text/x-python",
   "name": "python",
   "nbconvert_exporter": "python",
   "pygments_lexer": "ipython3",
   "version": "3.8.3"
  }
 },
 "nbformat": 4,
 "nbformat_minor": 4
}
